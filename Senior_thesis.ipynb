{
 "cells": [
  {
   "cell_type": "markdown",
   "metadata": {},
   "source": [
    "Back to School: Student's Decision During Pandemic"
   ]
  },
  {
   "cell_type": "code",
   "execution_count": null,
   "metadata": {},
   "outputs": [],
   "source": [
    "import pandas as pd\n",
    "import numpy as np\n",
    "import seaborn as sns\n",
    "import matplotlib.pyplot as plt"
   ]
  },
  {
   "cell_type": "code",
   "execution_count": 62,
   "metadata": {},
   "outputs": [],
   "source": [
    "#import the dataset"
   ]
  },
  {
   "cell_type": "code",
   "execution_count": 63,
   "metadata": {},
   "outputs": [
    {
     "data": {
      "text/plain": [
       "'/Users/emilmatti'"
      ]
     },
     "execution_count": 63,
     "metadata": {},
     "output_type": "execute_result"
    }
   ],
   "source": [
    "pwd"
   ]
  },
  {
   "cell_type": "code",
   "execution_count": 64,
   "metadata": {},
   "outputs": [
    {
     "name": "stdout",
     "output_type": "stream",
     "text": [
      "/Users/emilmatti\n"
     ]
    }
   ],
   "source": [
    "cd /Users/emilmatti"
   ]
  },
  {
   "cell_type": "code",
   "execution_count": 65,
   "metadata": {},
   "outputs": [],
   "source": [
    "df = pd.read_csv('pandemic_college.csv')"
   ]
  },
  {
   "cell_type": "code",
   "execution_count": 66,
   "metadata": {},
   "outputs": [
    {
     "data": {
      "text/html": [
       "<div>\n",
       "<style scoped>\n",
       "    .dataframe tbody tr th:only-of-type {\n",
       "        vertical-align: middle;\n",
       "    }\n",
       "\n",
       "    .dataframe tbody tr th {\n",
       "        vertical-align: top;\n",
       "    }\n",
       "\n",
       "    .dataframe thead th {\n",
       "        text-align: right;\n",
       "    }\n",
       "</style>\n",
       "<table border=\"1\" class=\"dataframe\">\n",
       "  <thead>\n",
       "    <tr style=\"text-align: right;\">\n",
       "      <th></th>\n",
       "      <th>Timestamp</th>\n",
       "      <th>This research project focuses on understanding how a student might choose to attend courses on campus or stay home and take courses fully remote during the pandemic. A survey will be used to gather information about their school situation in the Fall of 2020 and their background. In this online survey you will be asked to take a brief 13-question assessment. The assessment should take approximately less than 5 minutes and will ask very simple questions. All personally identifiable information will be removed from your responses so that your responses remain confidential and cannot be associated with your name. If for any reason during this survey you do not feel comfortable answering any of the questions, you may withdraw from the study. The researcher has identified no foreseeable risks associated with taking this survey. When this research project is complete you will be provided with the results of the experiment if you request them, and you are free to ask any follow up questions on the research. If you have any further questions concerning this study, please feel free to contact the researcher through email: Emil Matti at emil.matti@wagner.edu. Please indicate below that you are 18 years of age or older, and consent to participate in this survey.</th>\n",
       "      <th>1.) Did you attend courses on campus or online in the Fall of 2020?</th>\n",
       "      <th>2) Are you a commuter student?</th>\n",
       "      <th>3.) If online in the Fall of 2020, are health concerns a primary reason to choose to take online classes?</th>\n",
       "      <th>4.) What grade are you in?</th>\n",
       "      <th>5.) Are you an international student?</th>\n",
       "      <th>6.) What state do you reside in? (skip if international student)</th>\n",
       "      <th>7.) Do you have an off campus lease?</th>\n",
       "      <th>8.) If any, how many classes did your professors make online in the 2020 Fall semester?</th>\n",
       "      <th>9.) Are you a student athlete?</th>\n",
       "      <th>10.) Do you have a significant other that attends Wagner?</th>\n",
       "      <th>11.) Does your major require you to study on campus? ex. PA, Nursing...</th>\n",
       "      <th>12.) Do you prefer learning online or in a classroom setting?</th>\n",
       "      <th>Unnamed: 14</th>\n",
       "      <th>If attended class in person in the Fall of 2020, were your friends a factor in your decision to come back to campus?</th>\n",
       "    </tr>\n",
       "  </thead>\n",
       "  <tbody>\n",
       "    <tr>\n",
       "      <th>0</th>\n",
       "      <td>4/8/2021 12:38:43</td>\n",
       "      <td>I am at least 18 years of age, and I consent t...</td>\n",
       "      <td>No, attended classes online</td>\n",
       "      <td>No</td>\n",
       "      <td>No</td>\n",
       "      <td>Senior</td>\n",
       "      <td>No</td>\n",
       "      <td>New Jersey</td>\n",
       "      <td>No</td>\n",
       "      <td>3.0</td>\n",
       "      <td>Yes</td>\n",
       "      <td>Yes</td>\n",
       "      <td>No</td>\n",
       "      <td>Online</td>\n",
       "      <td>NaN</td>\n",
       "      <td>I attended classes online.</td>\n",
       "    </tr>\n",
       "    <tr>\n",
       "      <th>1</th>\n",
       "      <td>4/12/2021 14:19:25</td>\n",
       "      <td>I am at least 18 years of age, and I consent t...</td>\n",
       "      <td>No, attended classes online</td>\n",
       "      <td>No</td>\n",
       "      <td>No</td>\n",
       "      <td>Graduate Student</td>\n",
       "      <td>No</td>\n",
       "      <td>California</td>\n",
       "      <td>No</td>\n",
       "      <td>4.0</td>\n",
       "      <td>No</td>\n",
       "      <td>No</td>\n",
       "      <td>No</td>\n",
       "      <td>Classroom</td>\n",
       "      <td>NaN</td>\n",
       "      <td>No</td>\n",
       "    </tr>\n",
       "    <tr>\n",
       "      <th>2</th>\n",
       "      <td>4/12/2021 14:19:25</td>\n",
       "      <td>I am at least 18 years of age, and I consent t...</td>\n",
       "      <td>No, attended classes online</td>\n",
       "      <td>No</td>\n",
       "      <td>No</td>\n",
       "      <td>Senior</td>\n",
       "      <td>No</td>\n",
       "      <td>New York</td>\n",
       "      <td>Yes</td>\n",
       "      <td>4.0</td>\n",
       "      <td>Yes</td>\n",
       "      <td>No</td>\n",
       "      <td>No</td>\n",
       "      <td>Classroom</td>\n",
       "      <td>NaN</td>\n",
       "      <td>I attended classes online.</td>\n",
       "    </tr>\n",
       "    <tr>\n",
       "      <th>3</th>\n",
       "      <td>4/12/2021 14:19:33</td>\n",
       "      <td>I am at least 18 years of age, and I consent t...</td>\n",
       "      <td>Yes, attended classes on campus.</td>\n",
       "      <td>No</td>\n",
       "      <td>I attended in person.</td>\n",
       "      <td>Sophomore</td>\n",
       "      <td>No</td>\n",
       "      <td>Illinois</td>\n",
       "      <td>No</td>\n",
       "      <td>2.0</td>\n",
       "      <td>Yes</td>\n",
       "      <td>No</td>\n",
       "      <td>Yes</td>\n",
       "      <td>Classroom</td>\n",
       "      <td>NaN</td>\n",
       "      <td>No</td>\n",
       "    </tr>\n",
       "    <tr>\n",
       "      <th>4</th>\n",
       "      <td>4/12/2021 14:19:40</td>\n",
       "      <td>I am at least 18 years of age, and I consent t...</td>\n",
       "      <td>Yes, attended classes on campus.</td>\n",
       "      <td>No</td>\n",
       "      <td>I attended in person.</td>\n",
       "      <td>Freshman</td>\n",
       "      <td>No</td>\n",
       "      <td>Massachusetts</td>\n",
       "      <td>No</td>\n",
       "      <td>3.0</td>\n",
       "      <td>Yes</td>\n",
       "      <td>No</td>\n",
       "      <td>No</td>\n",
       "      <td>Classroom</td>\n",
       "      <td>NaN</td>\n",
       "      <td>Yes</td>\n",
       "    </tr>\n",
       "  </tbody>\n",
       "</table>\n",
       "</div>"
      ],
      "text/plain": [
       "            Timestamp  \\\n",
       "0   4/8/2021 12:38:43   \n",
       "1  4/12/2021 14:19:25   \n",
       "2  4/12/2021 14:19:25   \n",
       "3  4/12/2021 14:19:33   \n",
       "4  4/12/2021 14:19:40   \n",
       "\n",
       "  This research project focuses on understanding how a student might choose to attend courses on campus or stay home and take courses fully remote during the pandemic. A survey will be used to gather information about their school situation in the Fall of 2020 and their background. In this online survey you will be asked to take a brief 13-question assessment. The assessment should take approximately less than 5 minutes and will ask very simple questions. All personally identifiable information will be removed from your responses so that your responses remain confidential and cannot be associated with your name. If for any reason during this survey you do not feel comfortable answering any of the questions, you may withdraw from the study. The researcher has identified no foreseeable risks associated with taking this survey. When this research project is complete you will be provided with the results of the experiment if you request them, and you are free to ask any follow up questions on the research. If you have any further questions concerning this study, please feel free to contact the researcher through email: Emil Matti at emil.matti@wagner.edu. Please indicate below that you are 18 years of age or older, and consent to participate in this survey.  \\\n",
       "0  I am at least 18 years of age, and I consent t...                                                                                                                                                                                                                                                                                                                                                                                                                                                                                                                                                                                                                                                                                                                                                                                                                                                                                                                                                                                                                                                                                                                                                                                                                                                                        \n",
       "1  I am at least 18 years of age, and I consent t...                                                                                                                                                                                                                                                                                                                                                                                                                                                                                                                                                                                                                                                                                                                                                                                                                                                                                                                                                                                                                                                                                                                                                                                                                                                                        \n",
       "2  I am at least 18 years of age, and I consent t...                                                                                                                                                                                                                                                                                                                                                                                                                                                                                                                                                                                                                                                                                                                                                                                                                                                                                                                                                                                                                                                                                                                                                                                                                                                                        \n",
       "3  I am at least 18 years of age, and I consent t...                                                                                                                                                                                                                                                                                                                                                                                                                                                                                                                                                                                                                                                                                                                                                                                                                                                                                                                                                                                                                                                                                                                                                                                                                                                                        \n",
       "4  I am at least 18 years of age, and I consent t...                                                                                                                                                                                                                                                                                                                                                                                                                                                                                                                                                                                                                                                                                                                                                                                                                                                                                                                                                                                                                                                                                                                                                                                                                                                                        \n",
       "\n",
       "  1.) Did you attend courses on campus or online in the Fall of 2020?  \\\n",
       "0                        No, attended classes online                    \n",
       "1                        No, attended classes online                    \n",
       "2                        No, attended classes online                    \n",
       "3                   Yes, attended classes on campus.                    \n",
       "4                   Yes, attended classes on campus.                    \n",
       "\n",
       "  2) Are you a commuter student?  \\\n",
       "0                             No   \n",
       "1                             No   \n",
       "2                             No   \n",
       "3                             No   \n",
       "4                             No   \n",
       "\n",
       "  3.) If online in the Fall of 2020, are health concerns a primary reason to choose to take online classes?  \\\n",
       "0                                                 No                                                          \n",
       "1                                                 No                                                          \n",
       "2                                                 No                                                          \n",
       "3                              I attended in person.                                                          \n",
       "4                              I attended in person.                                                          \n",
       "\n",
       "  4.) What grade are you in? 5.) Are you an international student?  \\\n",
       "0                     Senior                                    No   \n",
       "1           Graduate Student                                    No   \n",
       "2                     Senior                                    No   \n",
       "3                  Sophomore                                    No   \n",
       "4                   Freshman                                    No   \n",
       "\n",
       "  6.) What state do you reside in? (skip if international student)  \\\n",
       "0                                         New Jersey                 \n",
       "1                                         California                 \n",
       "2                                           New York                 \n",
       "3                                           Illinois                 \n",
       "4                                      Massachusetts                 \n",
       "\n",
       "  7.) Do you have an off campus lease?  \\\n",
       "0                                   No   \n",
       "1                                   No   \n",
       "2                                  Yes   \n",
       "3                                   No   \n",
       "4                                   No   \n",
       "\n",
       "   8.) If any, how many classes did your professors make online in the 2020 Fall semester?  \\\n",
       "0                                                3.0                                         \n",
       "1                                                4.0                                         \n",
       "2                                                4.0                                         \n",
       "3                                                2.0                                         \n",
       "4                                                3.0                                         \n",
       "\n",
       "  9.) Are you a student athlete?  \\\n",
       "0                            Yes   \n",
       "1                             No   \n",
       "2                            Yes   \n",
       "3                            Yes   \n",
       "4                            Yes   \n",
       "\n",
       "  10.) Do you have a significant other that attends Wagner?  \\\n",
       "0                                                Yes          \n",
       "1                                                 No          \n",
       "2                                                 No          \n",
       "3                                                 No          \n",
       "4                                                 No          \n",
       "\n",
       "  11.) Does your major require you to study on campus? ex. PA, Nursing...  \\\n",
       "0                                                 No                        \n",
       "1                                                 No                        \n",
       "2                                                 No                        \n",
       "3                                                Yes                        \n",
       "4                                                 No                        \n",
       "\n",
       "  12.) Do you prefer learning online or in a classroom setting?  Unnamed: 14  \\\n",
       "0                                             Online                     NaN   \n",
       "1                                          Classroom                     NaN   \n",
       "2                                          Classroom                     NaN   \n",
       "3                                          Classroom                     NaN   \n",
       "4                                          Classroom                     NaN   \n",
       "\n",
       "  If attended class in person in the Fall of 2020, were your friends a factor in your decision to come back to campus?  \n",
       "0                         I attended classes online.                                                                    \n",
       "1                                                 No                                                                    \n",
       "2                         I attended classes online.                                                                    \n",
       "3                                                 No                                                                    \n",
       "4                                                Yes                                                                    "
      ]
     },
     "execution_count": 66,
     "metadata": {},
     "output_type": "execute_result"
    }
   ],
   "source": [
    "df.head()"
   ]
  },
  {
   "cell_type": "code",
   "execution_count": 67,
   "metadata": {},
   "outputs": [],
   "source": [
    "df = df.drop(columns = ['This research project focuses on understanding how a student might choose to attend courses on campus or stay home and take courses fully remote during the pandemic. A survey will be used to gather information about their school situation in the Fall of 2020 and their background. In this online survey you will be asked to take a brief 13-question assessment. The assessment should take approximately less than 5 minutes and will ask very simple questions. All personally identifiable information will be removed from your responses so that your responses remain confidential and cannot be associated with your name. If for any reason during this survey you do not feel comfortable answering any of the questions, you may withdraw from the study. The researcher has identified no foreseeable risks associated with taking this survey. When this research project is complete you will be provided with the results of the experiment if you request them, and you are free to ask any follow up questions on the research. If you have any further questions concerning this study, please feel free to contact the researcher through email: Emil Matti at emil.matti@wagner.edu. Please indicate below that you are 18 years of age or older, and consent to participate in this survey.'])"
   ]
  },
  {
   "cell_type": "code",
   "execution_count": 68,
   "metadata": {},
   "outputs": [
    {
     "data": {
      "text/plain": [
       "Index(['Timestamp',\n",
       "       '1.) Did you attend courses on campus or online in the Fall of 2020?',\n",
       "       '2) Are you a commuter student?',\n",
       "       '3.) If online in the Fall of 2020, are health concerns a primary reason to choose to take online classes?',\n",
       "       '4.) What grade are you in?', '5.) Are you an international student?',\n",
       "       '6.) What state do you reside in? (skip if international student)',\n",
       "       '7.) Do you have an off campus lease?',\n",
       "       '8.) If any, how many classes did your professors make online in the 2020 Fall semester?',\n",
       "       '9.) Are you a student athlete?',\n",
       "       '10.) Do you have a significant other that attends Wagner?',\n",
       "       '11.) Does your major require you to study on campus? ex. PA, Nursing...',\n",
       "       '12.) Do you prefer learning online or in a classroom setting?',\n",
       "       'Unnamed: 14',\n",
       "       'If attended class in person in the Fall of 2020, were your friends a factor in your decision to come back to campus?'],\n",
       "      dtype='object')"
      ]
     },
     "execution_count": 68,
     "metadata": {},
     "output_type": "execute_result"
    }
   ],
   "source": [
    "df.columns"
   ]
  },
  {
   "cell_type": "code",
   "execution_count": 69,
   "metadata": {},
   "outputs": [],
   "source": [
    "# RENAME THE COLUMNS"
   ]
  },
  {
   "cell_type": "code",
   "execution_count": 70,
   "metadata": {},
   "outputs": [],
   "source": [
    "df = df.rename(columns = {\"1.) Did you attend courses on campus or online in the Fall of 2020?\":\n",
    "               \"decision\", \"2) Are you a commuter student?\":\n",
    "               \"comm\"})"
   ]
  },
  {
   "cell_type": "code",
   "execution_count": 71,
   "metadata": {},
   "outputs": [],
   "source": [
    "df = df.rename(columns = {\"3.) If online in the Fall of 2020, are health concerns a primary reason to choose to take online classes?\":\n",
    "               \"health_conc\"})"
   ]
  },
  {
   "cell_type": "code",
   "execution_count": 72,
   "metadata": {},
   "outputs": [],
   "source": [
    "df = df.rename(columns = {\"4.) What grade are you in?\":\n",
    "               \"grade\"})"
   ]
  },
  {
   "cell_type": "code",
   "execution_count": 73,
   "metadata": {},
   "outputs": [],
   "source": [
    "df = df.rename(columns = {\"5.) Are you an international student?\":\n",
    "               \"inter_stu\"})"
   ]
  },
  {
   "cell_type": "code",
   "execution_count": 74,
   "metadata": {},
   "outputs": [],
   "source": [
    "df = df.rename(columns = {\"6.) What state do you reside in? (skip if international student)\":\n",
    "               \"hot_spot\"})"
   ]
  },
  {
   "cell_type": "code",
   "execution_count": 75,
   "metadata": {},
   "outputs": [],
   "source": [
    "df = df.rename(columns = {\"7.) Do you have an off campus lease?\":\n",
    "               \"off_lease\"})"
   ]
  },
  {
   "cell_type": "code",
   "execution_count": 76,
   "metadata": {},
   "outputs": [],
   "source": [
    "df = df.rename(columns = {\"8.) If any, how many classes did your professors make online in the 2020 Fall semester?\":\n",
    "               \"onl_class\"})"
   ]
  },
  {
   "cell_type": "code",
   "execution_count": 77,
   "metadata": {},
   "outputs": [],
   "source": [
    "df = df.rename(columns = {\"9.) Are you a student athlete?\":\n",
    "               \"stu_ath\"})"
   ]
  },
  {
   "cell_type": "code",
   "execution_count": 78,
   "metadata": {},
   "outputs": [],
   "source": [
    "df = df.rename(columns = {\"10.) Do you have a significant other that attends Wagner?\":\n",
    "               \"sign_oth\"})"
   ]
  },
  {
   "cell_type": "code",
   "execution_count": 79,
   "metadata": {},
   "outputs": [],
   "source": [
    "df = df.rename(columns = {\"11.) Does your major require you to study on campus? ex. PA, Nursing...\":\n",
    "               \"major_req\"})"
   ]
  },
  {
   "cell_type": "code",
   "execution_count": 80,
   "metadata": {},
   "outputs": [],
   "source": [
    "df = df.rename(columns = {\"12.) Do you prefer learning online or in a classroom setting?\":\n",
    "               \"preference\"})"
   ]
  },
  {
   "cell_type": "code",
   "execution_count": 81,
   "metadata": {},
   "outputs": [],
   "source": [
    "df = df.rename(columns = {\"If attended class in person in the Fall of 2020, were your friends a factor in your decision to come back to campus?\":\n",
    "               \"friends\"})"
   ]
  },
  {
   "cell_type": "code",
   "execution_count": 82,
   "metadata": {},
   "outputs": [
    {
     "data": {
      "text/plain": [
       "Index(['Timestamp', 'decision', 'comm', 'health_conc', 'grade', 'inter_stu',\n",
       "       'hot_spot', 'off_lease', 'onl_class', 'stu_ath', 'sign_oth',\n",
       "       'major_req', 'preference', 'Unnamed: 14', 'friends'],\n",
       "      dtype='object')"
      ]
     },
     "execution_count": 82,
     "metadata": {},
     "output_type": "execute_result"
    }
   ],
   "source": [
    "df.columns"
   ]
  },
  {
   "cell_type": "code",
   "execution_count": 83,
   "metadata": {},
   "outputs": [],
   "source": [
    "# drop unnamed column\n",
    "df = df.drop(columns = {'Unnamed: 14'})"
   ]
  },
  {
   "cell_type": "code",
   "execution_count": 84,
   "metadata": {},
   "outputs": [
    {
     "data": {
      "text/plain": [
       "Yes, attended classes on campus.    0.678218\n",
       "No, attended classes online         0.321782\n",
       "Name: decision, dtype: float64"
      ]
     },
     "execution_count": 84,
     "metadata": {},
     "output_type": "execute_result"
    }
   ],
   "source": [
    "df['decision'].value_counts(normalize = True)"
   ]
  },
  {
   "cell_type": "code",
   "execution_count": 85,
   "metadata": {},
   "outputs": [],
   "source": [
    "df['decision'].replace({\"Yes, attended classes on campus.\": 1, \n",
    "           \"No, attended classes online\": 0}, inplace = True)\n",
    "\n",
    "#attended class = 1\n",
    "#online = 0"
   ]
  },
  {
   "cell_type": "code",
   "execution_count": 86,
   "metadata": {},
   "outputs": [],
   "source": [
    "df['comm'].replace({\"Yes\": 1, \n",
    "           \"No\": 0}, inplace = True)\n",
    "\n",
    "#commuter = 1\n",
    "#not commuter = 0"
   ]
  },
  {
   "cell_type": "code",
   "execution_count": 87,
   "metadata": {},
   "outputs": [
    {
     "data": {
      "text/plain": [
       "I attended in person.    0.636816\n",
       "Yes                      0.208955\n",
       "No                       0.154229\n",
       "Name: health_conc, dtype: float64"
      ]
     },
     "execution_count": 87,
     "metadata": {},
     "output_type": "execute_result"
    }
   ],
   "source": [
    "df['health_conc'].value_counts(normalize = True)"
   ]
  },
  {
   "cell_type": "code",
   "execution_count": 88,
   "metadata": {},
   "outputs": [],
   "source": [
    "df['health_conc'].replace({\"Yes\": 1, \n",
    "           \"No\": 0, \"I attended in person.\": 2}, inplace = True)\n",
    "\n",
    "#health concerns = 1\n",
    "#no concerns = 0\n",
    "#went to campus = 2"
   ]
  },
  {
   "cell_type": "code",
   "execution_count": 89,
   "metadata": {},
   "outputs": [],
   "source": [
    "df['grade'].replace({\"Freshman\": 0, \n",
    "           \"Sophomore\": 1, \"Junior\": 2, \"Senior\": 3, \"Graduate Student\": 4}, inplace = True)\n"
   ]
  },
  {
   "cell_type": "code",
   "execution_count": 90,
   "metadata": {},
   "outputs": [],
   "source": [
    "df['inter_stu'].replace({\"Yes\": 1, \n",
    "           \"No\": 0}, inplace = True)\n",
    "\n",
    "#international = 1\n",
    "#domestic = 0"
   ]
  },
  {
   "cell_type": "code",
   "execution_count": 91,
   "metadata": {},
   "outputs": [
    {
     "data": {
      "text/plain": [
       "<matplotlib.axes._subplots.AxesSubplot at 0x7f7fbd4e50a0>"
      ]
     },
     "execution_count": 91,
     "metadata": {},
     "output_type": "execute_result"
    },
    {
     "data": {
      "image/png": "[encoded data removed]",
      "text/plain": [
       "<Figure size 432x288 with 1 Axes>"
      ]
     },
     "metadata": {
      "needs_background": "light"
     },
     "output_type": "display_data"
    }
   ],
   "source": [
    "df.hot_spot.value_counts().plot.bar()"
   ]
  },
  {
   "cell_type": "code",
   "execution_count": 92,
   "metadata": {},
   "outputs": [
    {
     "data": {
      "text/plain": [
       "pandas.core.series.Series"
      ]
     },
     "execution_count": 92,
     "metadata": {},
     "output_type": "execute_result"
    }
   ],
   "source": [
    "type(df['hot_spot'])"
   ]
  },
  {
   "cell_type": "code",
   "execution_count": 93,
   "metadata": {},
   "outputs": [],
   "source": [
    "df['hot_spot'].replace({\"Alabama\":1,\n",
    "                        \"California\":1,\n",
    "                        \"Florida\":1, \"Georgia\": 1, \"Idaho\": 1, \"Texas\": 1, \"Utah\":1, \"Wisconsin\":1, \"Rhode Island\": 1, \"Virginia\": 1, \"Illinois\": 1, \"Minnesota\": 1, \"Kansas\": 1, \"New Hampshire\": 1, \"South Carolina\": 1, \"Maryland\": 1, \"Arizona\": 1, \n",
    "                        \"New York\": 0, \"New Jersey\": 0, \"Massachusetts\": 0, \"Pennsylvania\": 0, \"Colorado\": 0, \"Maine\": 0, \"Michigan\": 0, \"Oregon\": 0, \"Vermont\": 0,}, \n",
    "                     inplace = True)"
   ]
  },
  {
   "cell_type": "code",
   "execution_count": 94,
   "metadata": {},
   "outputs": [],
   "source": [
    "df['hot_spot'].replace({\"Connecticut\": 0}, inplace = True)"
   ]
  },
  {
   "cell_type": "code",
   "execution_count": 95,
   "metadata": {},
   "outputs": [],
   "source": [
    "df['off_lease'].replace({\"Yes\": 1, \n",
    "           \"No\": 0}, inplace = True)\n",
    "#lease = 1\n",
    "#no lease = 0"
   ]
  },
  {
   "cell_type": "code",
   "execution_count": 96,
   "metadata": {},
   "outputs": [],
   "source": [
    "df['stu_ath'].replace({\"Yes\": 1, \n",
    "           \"No\": 0}, inplace = True)\n",
    "#athlete = 1\n",
    "#not athlete = 0"
   ]
  },
  {
   "cell_type": "code",
   "execution_count": 97,
   "metadata": {},
   "outputs": [],
   "source": [
    "df['sign_oth'].replace({\"Yes\": 1, \n",
    "           \"No\": 0}, inplace = True)\n",
    "#significant other = 1\n",
    "#no boyf or girlf = 0"
   ]
  },
  {
   "cell_type": "code",
   "execution_count": 98,
   "metadata": {},
   "outputs": [],
   "source": [
    "df['major_req'].replace({\"Yes\": 1, \n",
    "           \"No\": 0}, inplace = True)\n",
    "#required = 1\n",
    "#not required = 0"
   ]
  },
  {
   "cell_type": "code",
   "execution_count": 99,
   "metadata": {},
   "outputs": [
    {
     "data": {
      "text/plain": [
       "Classroom    0.816832\n",
       "Online       0.183168\n",
       "Name: preference, dtype: float64"
      ]
     },
     "execution_count": 99,
     "metadata": {},
     "output_type": "execute_result"
    }
   ],
   "source": [
    "df['preference'].value_counts(normalize = True)"
   ]
  },
  {
   "cell_type": "code",
   "execution_count": 100,
   "metadata": {},
   "outputs": [],
   "source": [
    "df['preference'].replace({\"Classroom\": 1, \n",
    "           \"Online\": 0}, inplace = True)\n",
    "#prefer classroom = 1\n",
    "#prefer online = 0"
   ]
  },
  {
   "cell_type": "code",
   "execution_count": 101,
   "metadata": {},
   "outputs": [
    {
     "data": {
      "text/plain": [
       "Yes                           0.455446\n",
       "I attended classes online.    0.282178\n",
       "No                            0.262376\n",
       "Name: friends, dtype: float64"
      ]
     },
     "execution_count": 101,
     "metadata": {},
     "output_type": "execute_result"
    }
   ],
   "source": [
    "df['friends'].value_counts(normalize = True)"
   ]
  },
  {
   "cell_type": "code",
   "execution_count": 102,
   "metadata": {},
   "outputs": [],
   "source": [
    "df['friends'].replace({\"Yes\": 2, \n",
    "           \"No\": 1,\n",
    "            \"I attended classes online.\": 0}, inplace = True)\n",
    "\n",
    "# was online = 0\n",
    "#friends weren't a factor = 1\n",
    "# friends were a factor = 2"
   ]
  },
  {
   "cell_type": "code",
   "execution_count": 103,
   "metadata": {},
   "outputs": [],
   "source": [
    "# CHECK ALL MISSING VALUES"
   ]
  },
  {
   "cell_type": "code",
   "execution_count": 104,
   "metadata": {},
   "outputs": [
    {
     "data": {
      "text/plain": [
       "Timestamp       0\n",
       "decision        0\n",
       "comm            0\n",
       "health_conc     1\n",
       "grade           0\n",
       "inter_stu       0\n",
       "hot_spot       18\n",
       "off_lease       2\n",
       "onl_class       5\n",
       "stu_ath         0\n",
       "sign_oth        0\n",
       "major_req       0\n",
       "preference      0\n",
       "friends         0\n",
       "dtype: int64"
      ]
     },
     "execution_count": 104,
     "metadata": {},
     "output_type": "execute_result"
    }
   ],
   "source": [
    "df.isnull().sum() "
   ]
  },
  {
   "cell_type": "code",
   "execution_count": 105,
   "metadata": {},
   "outputs": [],
   "source": [
    "# fill in onl_class w/ median\n",
    "# fill in health_conc w/ mode\n",
    "# check if all missing hot_spots are international students... elif fill with mode\n",
    "# off_lease fill with mode"
   ]
  },
  {
   "cell_type": "code",
   "execution_count": 106,
   "metadata": {},
   "outputs": [],
   "source": [
    "df['hot_spot'].fillna(0, inplace = True)"
   ]
  },
  {
   "cell_type": "code",
   "execution_count": 107,
   "metadata": {},
   "outputs": [],
   "source": [
    "df['health_conc'].fillna(2.0, inplace = True)"
   ]
  },
  {
   "cell_type": "code",
   "execution_count": 108,
   "metadata": {},
   "outputs": [
    {
     "data": {
      "text/html": [
       "<div>\n",
       "<style scoped>\n",
       "    .dataframe tbody tr th:only-of-type {\n",
       "        vertical-align: middle;\n",
       "    }\n",
       "\n",
       "    .dataframe tbody tr th {\n",
       "        vertical-align: top;\n",
       "    }\n",
       "\n",
       "    .dataframe thead th {\n",
       "        text-align: right;\n",
       "    }\n",
       "</style>\n",
       "<table border=\"1\" class=\"dataframe\">\n",
       "  <thead>\n",
       "    <tr style=\"text-align: right;\">\n",
       "      <th></th>\n",
       "      <th>Timestamp</th>\n",
       "      <th>decision</th>\n",
       "      <th>comm</th>\n",
       "      <th>health_conc</th>\n",
       "      <th>grade</th>\n",
       "      <th>inter_stu</th>\n",
       "      <th>hot_spot</th>\n",
       "      <th>off_lease</th>\n",
       "      <th>onl_class</th>\n",
       "      <th>stu_ath</th>\n",
       "      <th>sign_oth</th>\n",
       "      <th>major_req</th>\n",
       "      <th>preference</th>\n",
       "      <th>friends</th>\n",
       "    </tr>\n",
       "  </thead>\n",
       "  <tbody>\n",
       "    <tr>\n",
       "      <th>99</th>\n",
       "      <td>4/12/2021 16:16:13</td>\n",
       "      <td>1</td>\n",
       "      <td>1</td>\n",
       "      <td>2.0</td>\n",
       "      <td>2</td>\n",
       "      <td>0</td>\n",
       "      <td>0.0</td>\n",
       "      <td>NaN</td>\n",
       "      <td>4.0</td>\n",
       "      <td>0</td>\n",
       "      <td>0</td>\n",
       "      <td>1</td>\n",
       "      <td>0</td>\n",
       "      <td>1</td>\n",
       "    </tr>\n",
       "    <tr>\n",
       "      <th>166</th>\n",
       "      <td>4/13/2021 15:28:01</td>\n",
       "      <td>1</td>\n",
       "      <td>0</td>\n",
       "      <td>2.0</td>\n",
       "      <td>0</td>\n",
       "      <td>0</td>\n",
       "      <td>0.0</td>\n",
       "      <td>NaN</td>\n",
       "      <td>2.0</td>\n",
       "      <td>0</td>\n",
       "      <td>0</td>\n",
       "      <td>1</td>\n",
       "      <td>1</td>\n",
       "      <td>1</td>\n",
       "    </tr>\n",
       "  </tbody>\n",
       "</table>\n",
       "</div>"
      ],
      "text/plain": [
       "              Timestamp  decision  comm  health_conc  grade  inter_stu  \\\n",
       "99   4/12/2021 16:16:13         1     1          2.0      2          0   \n",
       "166  4/13/2021 15:28:01         1     0          2.0      0          0   \n",
       "\n",
       "     hot_spot  off_lease  onl_class  stu_ath  sign_oth  major_req  preference  \\\n",
       "99        0.0        NaN        4.0        0         0          1           0   \n",
       "166       0.0        NaN        2.0        0         0          1           1   \n",
       "\n",
       "     friends  \n",
       "99         1  \n",
       "166        1  "
      ]
     },
     "execution_count": 108,
     "metadata": {},
     "output_type": "execute_result"
    }
   ],
   "source": [
    "df[(df['off_lease']!= 1) & (df['off_lease']!= 0) ]"
   ]
  },
  {
   "cell_type": "code",
   "execution_count": 109,
   "metadata": {},
   "outputs": [],
   "source": [
    "df['off_lease'].fillna(0, inplace = True)"
   ]
  },
  {
   "cell_type": "code",
   "execution_count": 110,
   "metadata": {},
   "outputs": [
    {
     "data": {
      "text/plain": [
       "3.0"
      ]
     },
     "execution_count": 110,
     "metadata": {},
     "output_type": "execute_result"
    }
   ],
   "source": [
    "df['onl_class'].median()"
   ]
  },
  {
   "cell_type": "code",
   "execution_count": 111,
   "metadata": {},
   "outputs": [],
   "source": [
    "df['onl_class'].fillna(3, inplace = True)"
   ]
  },
  {
   "cell_type": "code",
   "execution_count": 112,
   "metadata": {},
   "outputs": [
    {
     "data": {
      "text/plain": [
       "0    185\n",
       "1     17\n",
       "Name: inter_stu, dtype: int64"
      ]
     },
     "execution_count": 112,
     "metadata": {},
     "output_type": "execute_result"
    }
   ],
   "source": [
    "df['inter_stu'].value_counts()"
   ]
  },
  {
   "cell_type": "code",
   "execution_count": 113,
   "metadata": {},
   "outputs": [],
   "source": [
    "df.to_csv('cleaned_thesis.csv')"
   ]
  },
  {
   "cell_type": "code",
   "execution_count": 114,
   "metadata": {},
   "outputs": [],
   "source": [
    "###############################################\n",
    "\n",
    "# Exploratory Data Analysis #\n",
    "\n",
    "\n",
    "###############################################"
   ]
  },
  {
   "cell_type": "code",
   "execution_count": 115,
   "metadata": {},
   "outputs": [
    {
     "data": {
      "text/plain": [
       "(202, 14)"
      ]
     },
     "execution_count": 115,
     "metadata": {},
     "output_type": "execute_result"
    }
   ],
   "source": [
    "df.shape\n",
    "#print('The sample size is of 202 students with 14 different variables.')"
   ]
  },
  {
   "cell_type": "code",
   "execution_count": 116,
   "metadata": {},
   "outputs": [
    {
     "data": {
      "text/plain": [
       "Index(['Timestamp', 'decision', 'comm', 'health_conc', 'grade', 'inter_stu',\n",
       "       'hot_spot', 'off_lease', 'onl_class', 'stu_ath', 'sign_oth',\n",
       "       'major_req', 'preference', 'friends'],\n",
       "      dtype='object')"
      ]
     },
     "execution_count": 116,
     "metadata": {},
     "output_type": "execute_result"
    }
   ],
   "source": [
    "df.columns"
   ]
  },
  {
   "cell_type": "code",
   "execution_count": 117,
   "metadata": {
    "scrolled": false
   },
   "outputs": [
    {
     "data": {
      "text/html": [
       "<div>\n",
       "<style scoped>\n",
       "    .dataframe tbody tr th:only-of-type {\n",
       "        vertical-align: middle;\n",
       "    }\n",
       "\n",
       "    .dataframe tbody tr th {\n",
       "        vertical-align: top;\n",
       "    }\n",
       "\n",
       "    .dataframe thead th {\n",
       "        text-align: right;\n",
       "    }\n",
       "</style>\n",
       "<table border=\"1\" class=\"dataframe\">\n",
       "  <thead>\n",
       "    <tr style=\"text-align: right;\">\n",
       "      <th></th>\n",
       "      <th>decision</th>\n",
       "      <th>comm</th>\n",
       "      <th>health_conc</th>\n",
       "      <th>grade</th>\n",
       "      <th>inter_stu</th>\n",
       "      <th>hot_spot</th>\n",
       "      <th>off_lease</th>\n",
       "      <th>onl_class</th>\n",
       "      <th>stu_ath</th>\n",
       "      <th>sign_oth</th>\n",
       "      <th>major_req</th>\n",
       "      <th>preference</th>\n",
       "      <th>friends</th>\n",
       "    </tr>\n",
       "  </thead>\n",
       "  <tbody>\n",
       "    <tr>\n",
       "      <th>count</th>\n",
       "      <td>202.000000</td>\n",
       "      <td>202.000000</td>\n",
       "      <td>202.000000</td>\n",
       "      <td>202.000000</td>\n",
       "      <td>202.000000</td>\n",
       "      <td>202.000000</td>\n",
       "      <td>202.000000</td>\n",
       "      <td>202.000000</td>\n",
       "      <td>202.000000</td>\n",
       "      <td>202.000000</td>\n",
       "      <td>202.000000</td>\n",
       "      <td>202.000000</td>\n",
       "      <td>202.000000</td>\n",
       "    </tr>\n",
       "    <tr>\n",
       "      <th>mean</th>\n",
       "      <td>0.678218</td>\n",
       "      <td>0.346535</td>\n",
       "      <td>1.485149</td>\n",
       "      <td>1.732673</td>\n",
       "      <td>0.084158</td>\n",
       "      <td>0.207921</td>\n",
       "      <td>0.123762</td>\n",
       "      <td>2.777228</td>\n",
       "      <td>0.430693</td>\n",
       "      <td>0.168317</td>\n",
       "      <td>0.316832</td>\n",
       "      <td>0.816832</td>\n",
       "      <td>1.173267</td>\n",
       "    </tr>\n",
       "    <tr>\n",
       "      <th>std</th>\n",
       "      <td>0.468321</td>\n",
       "      <td>0.477048</td>\n",
       "      <td>0.747984</td>\n",
       "      <td>1.241016</td>\n",
       "      <td>0.278315</td>\n",
       "      <td>0.406828</td>\n",
       "      <td>0.330128</td>\n",
       "      <td>1.575584</td>\n",
       "      <td>0.496403</td>\n",
       "      <td>0.375077</td>\n",
       "      <td>0.466397</td>\n",
       "      <td>0.387765</td>\n",
       "      <td>0.843281</td>\n",
       "    </tr>\n",
       "    <tr>\n",
       "      <th>min</th>\n",
       "      <td>0.000000</td>\n",
       "      <td>0.000000</td>\n",
       "      <td>0.000000</td>\n",
       "      <td>0.000000</td>\n",
       "      <td>0.000000</td>\n",
       "      <td>0.000000</td>\n",
       "      <td>0.000000</td>\n",
       "      <td>0.000000</td>\n",
       "      <td>0.000000</td>\n",
       "      <td>0.000000</td>\n",
       "      <td>0.000000</td>\n",
       "      <td>0.000000</td>\n",
       "      <td>0.000000</td>\n",
       "    </tr>\n",
       "    <tr>\n",
       "      <th>25%</th>\n",
       "      <td>0.000000</td>\n",
       "      <td>0.000000</td>\n",
       "      <td>1.000000</td>\n",
       "      <td>1.000000</td>\n",
       "      <td>0.000000</td>\n",
       "      <td>0.000000</td>\n",
       "      <td>0.000000</td>\n",
       "      <td>2.000000</td>\n",
       "      <td>0.000000</td>\n",
       "      <td>0.000000</td>\n",
       "      <td>0.000000</td>\n",
       "      <td>1.000000</td>\n",
       "      <td>0.000000</td>\n",
       "    </tr>\n",
       "    <tr>\n",
       "      <th>50%</th>\n",
       "      <td>1.000000</td>\n",
       "      <td>0.000000</td>\n",
       "      <td>2.000000</td>\n",
       "      <td>2.000000</td>\n",
       "      <td>0.000000</td>\n",
       "      <td>0.000000</td>\n",
       "      <td>0.000000</td>\n",
       "      <td>3.000000</td>\n",
       "      <td>0.000000</td>\n",
       "      <td>0.000000</td>\n",
       "      <td>0.000000</td>\n",
       "      <td>1.000000</td>\n",
       "      <td>1.000000</td>\n",
       "    </tr>\n",
       "    <tr>\n",
       "      <th>75%</th>\n",
       "      <td>1.000000</td>\n",
       "      <td>1.000000</td>\n",
       "      <td>2.000000</td>\n",
       "      <td>3.000000</td>\n",
       "      <td>0.000000</td>\n",
       "      <td>0.000000</td>\n",
       "      <td>0.000000</td>\n",
       "      <td>4.000000</td>\n",
       "      <td>1.000000</td>\n",
       "      <td>0.000000</td>\n",
       "      <td>1.000000</td>\n",
       "      <td>1.000000</td>\n",
       "      <td>2.000000</td>\n",
       "    </tr>\n",
       "    <tr>\n",
       "      <th>max</th>\n",
       "      <td>1.000000</td>\n",
       "      <td>1.000000</td>\n",
       "      <td>2.000000</td>\n",
       "      <td>4.000000</td>\n",
       "      <td>1.000000</td>\n",
       "      <td>1.000000</td>\n",
       "      <td>1.000000</td>\n",
       "      <td>7.000000</td>\n",
       "      <td>1.000000</td>\n",
       "      <td>1.000000</td>\n",
       "      <td>1.000000</td>\n",
       "      <td>1.000000</td>\n",
       "      <td>2.000000</td>\n",
       "    </tr>\n",
       "  </tbody>\n",
       "</table>\n",
       "</div>"
      ],
      "text/plain": [
       "         decision        comm  health_conc       grade   inter_stu  \\\n",
       "count  202.000000  202.000000   202.000000  202.000000  202.000000   \n",
       "mean     0.678218    0.346535     1.485149    1.732673    0.084158   \n",
       "std      0.468321    0.477048     0.747984    1.241016    0.278315   \n",
       "min      0.000000    0.000000     0.000000    0.000000    0.000000   \n",
       "25%      0.000000    0.000000     1.000000    1.000000    0.000000   \n",
       "50%      1.000000    0.000000     2.000000    2.000000    0.000000   \n",
       "75%      1.000000    1.000000     2.000000    3.000000    0.000000   \n",
       "max      1.000000    1.000000     2.000000    4.000000    1.000000   \n",
       "\n",
       "         hot_spot   off_lease   onl_class     stu_ath    sign_oth   major_req  \\\n",
       "count  202.000000  202.000000  202.000000  202.000000  202.000000  202.000000   \n",
       "mean     0.207921    0.123762    2.777228    0.430693    0.168317    0.316832   \n",
       "std      0.406828    0.330128    1.575584    0.496403    0.375077    0.466397   \n",
       "min      0.000000    0.000000    0.000000    0.000000    0.000000    0.000000   \n",
       "25%      0.000000    0.000000    2.000000    0.000000    0.000000    0.000000   \n",
       "50%      0.000000    0.000000    3.000000    0.000000    0.000000    0.000000   \n",
       "75%      0.000000    0.000000    4.000000    1.000000    0.000000    1.000000   \n",
       "max      1.000000    1.000000    7.000000    1.000000    1.000000    1.000000   \n",
       "\n",
       "       preference     friends  \n",
       "count  202.000000  202.000000  \n",
       "mean     0.816832    1.173267  \n",
       "std      0.387765    0.843281  \n",
       "min      0.000000    0.000000  \n",
       "25%      1.000000    0.000000  \n",
       "50%      1.000000    1.000000  \n",
       "75%      1.000000    2.000000  \n",
       "max      1.000000    2.000000  "
      ]
     },
     "execution_count": 117,
     "metadata": {},
     "output_type": "execute_result"
    }
   ],
   "source": [
    "df.describe()"
   ]
  },
  {
   "cell_type": "code",
   "execution_count": 118,
   "metadata": {},
   "outputs": [
    {
     "name": "stdout",
     "output_type": "stream",
     "text": [
      "<class 'pandas.core.frame.DataFrame'>\n",
      "RangeIndex: 202 entries, 0 to 201\n",
      "Data columns (total 14 columns):\n",
      " #   Column       Non-Null Count  Dtype  \n",
      "---  ------       --------------  -----  \n",
      " 0   Timestamp    202 non-null    object \n",
      " 1   decision     202 non-null    int64  \n",
      " 2   comm         202 non-null    int64  \n",
      " 3   health_conc  202 non-null    float64\n",
      " 4   grade        202 non-null    int64  \n",
      " 5   inter_stu    202 non-null    int64  \n",
      " 6   hot_spot     202 non-null    float64\n",
      " 7   off_lease    202 non-null    float64\n",
      " 8   onl_class    202 non-null    float64\n",
      " 9   stu_ath      202 non-null    int64  \n",
      " 10  sign_oth     202 non-null    int64  \n",
      " 11  major_req    202 non-null    int64  \n",
      " 12  preference   202 non-null    int64  \n",
      " 13  friends      202 non-null    int64  \n",
      "dtypes: float64(4), int64(9), object(1)\n",
      "memory usage: 22.2+ KB\n"
     ]
    }
   ],
   "source": [
    "df.info()"
   ]
  },
  {
   "cell_type": "code",
   "execution_count": 119,
   "metadata": {},
   "outputs": [
    {
     "data": {
      "text/plain": [
       "Text(0.5, 0, '1=inperson 0=online')"
      ]
     },
     "execution_count": 119,
     "metadata": {},
     "output_type": "execute_result"
    },
    {
     "data": {
      "image/png": "[encoded data removed]",
      "text/plain": [
       "<Figure size 432x288 with 1 Axes>"
      ]
     },
     "metadata": {
      "needs_background": "light"
     },
     "output_type": "display_data"
    }
   ],
   "source": [
    "# How many students went back to campus in the fall and how many stayed online?\n",
    "df.decision.value_counts().plot(kind = 'bar')\n",
    "plt.title(\"Number of students in person vs. online\")\n",
    "plt.ylabel('Students')\n",
    "plt.xlabel('1=inperson 0=online')"
   ]
  },
  {
   "cell_type": "code",
   "execution_count": 120,
   "metadata": {},
   "outputs": [
    {
     "data": {
      "text/html": [
       "<div>\n",
       "<style scoped>\n",
       "    .dataframe tbody tr th:only-of-type {\n",
       "        vertical-align: middle;\n",
       "    }\n",
       "\n",
       "    .dataframe tbody tr th {\n",
       "        vertical-align: top;\n",
       "    }\n",
       "\n",
       "    .dataframe thead th {\n",
       "        text-align: right;\n",
       "    }\n",
       "</style>\n",
       "<table border=\"1\" class=\"dataframe\">\n",
       "  <thead>\n",
       "    <tr style=\"text-align: right;\">\n",
       "      <th>hot_spot</th>\n",
       "      <th>0.0</th>\n",
       "      <th>1.0</th>\n",
       "    </tr>\n",
       "    <tr>\n",
       "      <th>decision</th>\n",
       "      <th></th>\n",
       "      <th></th>\n",
       "    </tr>\n",
       "  </thead>\n",
       "  <tbody>\n",
       "    <tr>\n",
       "      <th>0</th>\n",
       "      <td>50</td>\n",
       "      <td>15</td>\n",
       "    </tr>\n",
       "    <tr>\n",
       "      <th>1</th>\n",
       "      <td>110</td>\n",
       "      <td>27</td>\n",
       "    </tr>\n",
       "  </tbody>\n",
       "</table>\n",
       "</div>"
      ],
      "text/plain": [
       "hot_spot  0.0  1.0\n",
       "decision          \n",
       "0          50   15\n",
       "1         110   27"
      ]
     },
     "execution_count": 120,
     "metadata": {},
     "output_type": "execute_result"
    }
   ],
   "source": [
    "# How many students lived in a restricted state?\n",
    "pd.crosstab(df['decision'],df['hot_spot'])"
   ]
  },
  {
   "cell_type": "code",
   "execution_count": 121,
   "metadata": {},
   "outputs": [
    {
     "data": {
      "text/plain": [
       "0.0    160\n",
       "1.0     42\n",
       "Name: hot_spot, dtype: int64"
      ]
     },
     "execution_count": 121,
     "metadata": {},
     "output_type": "execute_result"
    }
   ],
   "source": [
    "df.hot_spot.value_counts()"
   ]
  },
  {
   "cell_type": "code",
   "execution_count": 122,
   "metadata": {},
   "outputs": [
    {
     "data": {
      "text/plain": [
       "2.321167883211679"
      ]
     },
     "execution_count": 122,
     "metadata": {},
     "output_type": "execute_result"
    }
   ],
   "source": [
    "# What was the average amount of classes on a student's schedule who decided to come back to campus in the Fall?\n",
    "df[df['decision']== 1]['onl_class'].mean()"
   ]
  },
  {
   "cell_type": "code",
   "execution_count": 123,
   "metadata": {},
   "outputs": [
    {
     "data": {
      "text/plain": [
       "3.7384615384615385"
      ]
     },
     "execution_count": 123,
     "metadata": {},
     "output_type": "execute_result"
    }
   ],
   "source": [
    "# What was the average amount of classes on a student's schedule who decided to stay home in the Fall?\n",
    "df[df['decision']== 0]['onl_class'].mean()"
   ]
  },
  {
   "cell_type": "code",
   "execution_count": 124,
   "metadata": {},
   "outputs": [
    {
     "data": {
      "text/html": [
       "<div>\n",
       "<style scoped>\n",
       "    .dataframe tbody tr th:only-of-type {\n",
       "        vertical-align: middle;\n",
       "    }\n",
       "\n",
       "    .dataframe tbody tr th {\n",
       "        vertical-align: top;\n",
       "    }\n",
       "\n",
       "    .dataframe thead th {\n",
       "        text-align: right;\n",
       "    }\n",
       "</style>\n",
       "<table border=\"1\" class=\"dataframe\">\n",
       "  <thead>\n",
       "    <tr style=\"text-align: right;\">\n",
       "      <th>stu_ath</th>\n",
       "      <th>0</th>\n",
       "      <th>1</th>\n",
       "    </tr>\n",
       "    <tr>\n",
       "      <th>decision</th>\n",
       "      <th></th>\n",
       "      <th></th>\n",
       "    </tr>\n",
       "  </thead>\n",
       "  <tbody>\n",
       "    <tr>\n",
       "      <th>0</th>\n",
       "      <td>47</td>\n",
       "      <td>18</td>\n",
       "    </tr>\n",
       "    <tr>\n",
       "      <th>1</th>\n",
       "      <td>68</td>\n",
       "      <td>69</td>\n",
       "    </tr>\n",
       "  </tbody>\n",
       "</table>\n",
       "</div>"
      ],
      "text/plain": [
       "stu_ath    0   1\n",
       "decision        \n",
       "0         47  18\n",
       "1         68  69"
      ]
     },
     "execution_count": 124,
     "metadata": {},
     "output_type": "execute_result"
    }
   ],
   "source": [
    "pd.crosstab(df['decision'], df['stu_ath'])"
   ]
  },
  {
   "cell_type": "code",
   "execution_count": 125,
   "metadata": {},
   "outputs": [],
   "source": [
    "# 47 students were online and are not student athletes\n",
    "# 18 students were online and ARE student athletes\n",
    "# 68 students were in person and NOT student athletes\n",
    "# 69 students were in person and student athletes"
   ]
  },
  {
   "cell_type": "code",
   "execution_count": 126,
   "metadata": {},
   "outputs": [
    {
     "name": "stdout",
     "output_type": "stream",
     "text": [
      "79.3103448275862 % of student athletes decided to come back to campus.\n"
     ]
    }
   ],
   "source": [
    "per = (69/(69+18))*100\n",
    "print(per, \"% of student athletes decided to come back to campus.\")"
   ]
  },
  {
   "cell_type": "code",
   "execution_count": 127,
   "metadata": {},
   "outputs": [
    {
     "data": {
      "text/plain": [
       "2.0    129\n",
       "1.0     42\n",
       "0.0     31\n",
       "Name: health_conc, dtype: int64"
      ]
     },
     "execution_count": 127,
     "metadata": {},
     "output_type": "execute_result"
    }
   ],
   "source": [
    "df.health_conc.value_counts()"
   ]
  },
  {
   "cell_type": "code",
   "execution_count": 128,
   "metadata": {},
   "outputs": [
    {
     "data": {
      "text/plain": [
       "<matplotlib.axes._subplots.AxesSubplot at 0x7f7fbd5d0220>"
      ]
     },
     "execution_count": 128,
     "metadata": {},
     "output_type": "execute_result"
    },
    {
     "data": {
      "image/png": "[encoded data removed]",
      "text/plain": [
       "<Figure size 432x288 with 1 Axes>"
      ]
     },
     "metadata": {
      "needs_background": "light"
     },
     "output_type": "display_data"
    }
   ],
   "source": [
    "df.health_conc.value_counts().plot.bar()"
   ]
  },
  {
   "cell_type": "code",
   "execution_count": 129,
   "metadata": {},
   "outputs": [
    {
     "data": {
      "text/plain": [
       "Text(0.5, 0, 'Requirement')"
      ]
     },
     "execution_count": 129,
     "metadata": {},
     "output_type": "execute_result"
    },
    {
     "data": {
      "image/png": "[encoded data removed]",
      "text/plain": [
       "<Figure size 432x288 with 1 Axes>"
      ]
     },
     "metadata": {
      "needs_background": "light"
     },
     "output_type": "display_data"
    }
   ],
   "source": [
    "df.major_req.value_counts().plot(kind = 'bar')\n",
    "plt.title(\"Number of students required to study in person\")\n",
    "plt.ylabel('Students')\n",
    "plt.xlabel('Requirement')"
   ]
  },
  {
   "cell_type": "code",
   "execution_count": 130,
   "metadata": {},
   "outputs": [
    {
     "name": "stdout",
     "output_type": "stream",
     "text": [
      "138 people did not need to come back to campus because of their major and 64 students needed to come back to campus due to their major.\n"
     ]
    }
   ],
   "source": [
    "df.major_req.value_counts()\n",
    "print('138 people did not need to come back to campus because of their major and 64 students needed to come back to campus due to their major.')"
   ]
  },
  {
   "cell_type": "code",
   "execution_count": 131,
   "metadata": {},
   "outputs": [
    {
     "data": {
      "text/plain": [
       "<matplotlib.axes._subplots.AxesSubplot at 0x7f7fbd8e11f0>"
      ]
     },
     "execution_count": 131,
     "metadata": {},
     "output_type": "execute_result"
    },
    {
     "data": {
      "image/png": "[encoded data removed]",
      "text/plain": [
       "<Figure size 432x288 with 1 Axes>"
      ]
     },
     "metadata": {
      "needs_background": "light"
     },
     "output_type": "display_data"
    }
   ],
   "source": [
    "sns.countplot(x = 'grade', hue = 'off_lease',\n",
    "             data=df)"
   ]
  },
  {
   "cell_type": "code",
   "execution_count": 132,
   "metadata": {},
   "outputs": [
    {
     "data": {
      "text/plain": [
       "<matplotlib.axes._subplots.AxesSubplot at 0x7f7fbdac69a0>"
      ]
     },
     "execution_count": 132,
     "metadata": {},
     "output_type": "execute_result"
    },
    {
     "data": {
      "image/png": "[encoded data removed]",
      "text/plain": [
       "<Figure size 432x288 with 2 Axes>"
      ]
     },
     "metadata": {
      "needs_background": "light"
     },
     "output_type": "display_data"
    }
   ],
   "source": [
    "corr = df.corr()\n",
    "sns.heatmap(corr, xticklabels=corr.columns, yticklabels = corr.columns)"
   ]
  },
  {
   "cell_type": "code",
   "execution_count": 133,
   "metadata": {},
   "outputs": [],
   "source": [
    "# perform the regression"
   ]
  },
  {
   "cell_type": "code",
   "execution_count": 134,
   "metadata": {},
   "outputs": [],
   "source": [
    "from sklearn.linear_model import LinearRegression\n",
    "from sklearn.model_selection import train_test_split"
   ]
  },
  {
   "cell_type": "code",
   "execution_count": 135,
   "metadata": {},
   "outputs": [],
   "source": [
    "x = df.drop(['decision','health_conc', 'Timestamp'], axis=1)\n",
    "y = df['decision']"
   ]
  },
  {
   "cell_type": "code",
   "execution_count": 136,
   "metadata": {},
   "outputs": [],
   "source": [
    "X_train, X_test, y_train, y_test = train_test_split(x, y, test_size=0.3, random_state=42)"
   ]
  },
  {
   "cell_type": "code",
   "execution_count": 137,
   "metadata": {},
   "outputs": [],
   "source": [
    "lin = LinearRegression()"
   ]
  },
  {
   "cell_type": "code",
   "execution_count": 138,
   "metadata": {},
   "outputs": [
    {
     "data": {
      "text/plain": [
       "LinearRegression()"
      ]
     },
     "execution_count": 138,
     "metadata": {},
     "output_type": "execute_result"
    }
   ],
   "source": [
    "lin.fit(X_train, y_train)"
   ]
  },
  {
   "cell_type": "code",
   "execution_count": 139,
   "metadata": {},
   "outputs": [],
   "source": [
    "pred = lin.predict(X_test)"
   ]
  },
  {
   "cell_type": "code",
   "execution_count": 140,
   "metadata": {},
   "outputs": [
    {
     "name": "stdout",
     "output_type": "stream",
     "text": [
      "predicted responses: \n",
      "[1.07715614 0.73333394 0.17956452 1.00462059 0.73333394 0.24135413\n",
      " 1.07715614 0.19943524 0.84823017 1.06341178 0.00196069 0.61101372\n",
      " 0.72339763 0.90610269 0.93587354 0.8919718  0.63949445 0.07189676\n",
      " 0.20612861 0.22148341 0.95506617 0.07070774 1.01637877 0.23742275\n",
      " 0.64664631 0.78125586 0.87603247 0.94425306 0.82150847 1.01637877\n",
      " 0.53665473 1.08875704 0.1487531  0.60933316 0.35888713 0.45418432\n",
      " 0.39602572 1.16222917 0.77402739 0.83415072 0.22148341 0.57256957\n",
      " 0.63162564 0.26896449 0.0865598  0.80349691 0.17085365 0.34553833\n",
      " 0.9767802  1.00721983 0.90610269 0.43952128 0.83184847 0.42604356\n",
      " 0.52553084 1.0355571  0.66679582 1.10065809 1.03391152 0.53780915\n",
      " 1.00553926]\n"
     ]
    }
   ],
   "source": [
    "print('predicted responses: ', pred, sep='\\n')"
   ]
  },
  {
   "cell_type": "code",
   "execution_count": 141,
   "metadata": {},
   "outputs": [],
   "source": [
    "# check efficiency "
   ]
  },
  {
   "cell_type": "code",
   "execution_count": 142,
   "metadata": {},
   "outputs": [],
   "source": [
    "r_squared = lin.score(X_test, y_test)*100"
   ]
  },
  {
   "cell_type": "code",
   "execution_count": 143,
   "metadata": {},
   "outputs": [
    {
     "name": "stdout",
     "output_type": "stream",
     "text": [
      "R^2:  59.959456847341954\n"
     ]
    }
   ],
   "source": [
    "print(\"R^2: \",r_squared)"
   ]
  }
 ],
 "metadata": {
  "kernelspec": {
   "display_name": "Python 3",
   "language": "python",
   "name": "python3"
  },
  "language_info": {
   "codemirror_mode": {
    "name": "ipython",
    "version": 3
   },
   "file_extension": ".py",
   "mimetype": "text/x-python",
   "name": "python",
   "nbconvert_exporter": "python",
   "pygments_lexer": "ipython3",
   "version": "3.8.3"
  }
 },
 "nbformat": 4,
 "nbformat_minor": 4
}
